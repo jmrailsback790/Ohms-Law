{
 "cells": [
  {
   "cell_type": "code",
   "execution_count": 9,
   "metadata": {},
   "outputs": [
    {
     "name": "stdout",
     "output_type": "stream",
     "text": [
      "122.74509803921569\n",
      "18.049666868564504\n",
      "6.208768228131891\n"
     ]
    }
   ],
   "source": [
    "#Ohm's Law Lab\n",
    "import math as math\n",
    "import numpy as np\n",
    "\n",
    "#Resistances\n",
    "R_100 = 98.5\n",
    "R_20 = 19.7\n",
    "\n",
    "#Series Measurements\n",
    "V_20 = 0.50\n",
    "V_100 = 2.63\n",
    "\n",
    "I = 0.0255\n",
    "\n",
    "R_1 = V_100 / I\n",
    "R_2 = V_20 / I\n",
    "\n",
    "V_total = V_20 + V_100\n",
    "R_total = V_total / I\n",
    "print(R_total)\n",
    "\n",
    "\n",
    "#Parallel Measurements\n",
    "V = 2.98\n",
    "\n",
    "I_20 = 0.136\n",
    "I_100 = 0.0291\n",
    "\n",
    "R_11 = V / I_20\n",
    "R_22 = V / I_100\n",
    "\n",
    "R_tot = 1 / ((1 / R_11) + (1 / R_22))\n",
    "print(R_tot)\n",
    "\n",
    "#Uncertainty\n",
    "dV = 0.1\n",
    "dI = 0.001\n",
    "dRs = R_total * math.sqrt((dV / V_total) ** 2 + (-dI / I) ** 2)\n",
    "print(dRs)"
   ]
  },
  {
   "cell_type": "code",
   "execution_count": null,
   "metadata": {},
   "outputs": [],
   "source": []
  }
 ],
 "metadata": {
  "kernelspec": {
   "display_name": "Python 3",
   "language": "python",
   "name": "python3"
  },
  "language_info": {
   "codemirror_mode": {
    "name": "ipython",
    "version": 3
   },
   "file_extension": ".py",
   "mimetype": "text/x-python",
   "name": "python",
   "nbconvert_exporter": "python",
   "pygments_lexer": "ipython3",
   "version": "3.8.5"
  }
 },
 "nbformat": 4,
 "nbformat_minor": 4
}
